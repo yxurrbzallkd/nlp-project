{
 "cells": [
  {
   "cell_type": "code",
   "execution_count": 1,
   "id": "807fdc52",
   "metadata": {
    "id": "807fdc52"
   },
   "outputs": [],
   "source": [
    "import pandas as pd\n",
    "import os\n",
    "import json\n",
    "\n",
    "import numpy as np\n",
    "\n",
    "from nltk import word_tokenize\n",
    "from nltk.tag import pos_tag\n",
    "\n",
    "import spacy\n",
    "\n",
    "import sklearn_crfsuite"
   ]
  },
  {
   "cell_type": "code",
   "execution_count": 2,
   "id": "901c907a",
   "metadata": {},
   "outputs": [],
   "source": [
    "def metrics(confusion_matrix):\n",
    "    precision = confusion_matrix[\"B\"][\"B\"]/(confusion_matrix[\"B\"][\"B\"] + confusion_matrix[\"O\"][\"B\"])\n",
    "    recall = confusion_matrix[\"B\"][\"B\"]/(confusion_matrix[\"B\"][\"B\"] + confusion_matrix[\"B\"][\"O\"])\n",
    "    f_score = (precision*2*recall)/(precision+recall)\n",
    "    return f_score"
   ]
  },
  {
   "cell_type": "code",
   "execution_count": 7,
   "id": "3b74f05f",
   "metadata": {},
   "outputs": [],
   "source": [
    "def metrics(confusion_matrix):\n",
    "    precision = confusion_matrix[\"B\"][\"B\"]/(confusion_matrix[\"B\"][\"B\"] + confusion_matrix[\"O\"][\"B\"])\n",
    "    recall = confusion_matrix[\"B\"][\"B\"]/(confusion_matrix[\"B\"][\"B\"] + confusion_matrix[\"B\"][\"O\"])\n",
    "    f_score = (precision*2*recall)/(precision+recall)\n",
    "    return f_score"
   ]
  },
  {
   "cell_type": "code",
   "execution_count": 15,
   "id": "783ee0bb",
   "metadata": {},
   "outputs": [],
   "source": [
    "# custom evaluation function - cross\n",
    "def evaluate(pred,labl):\n",
    "    cmatrix = {\"O\": {\"O\": 0, \"B\": 0}, \"B\": {\"O\": 0, \"B\": 0}}\n",
    "    for l,p in zip(labl,pred):\n",
    "        for i,j in zip(l,p):\n",
    "            cmatrix[i][j] += 1\n",
    "    return cmatrix"
   ]
  },
  {
   "cell_type": "markdown",
   "id": "db82b8a3",
   "metadata": {
    "id": "db82b8a3"
   },
   "source": [
    "## Load data - Features Single\n",
    "one pos tag - in training set - from ua \\ ru model, in testing - from ru model"
   ]
  },
  {
   "cell_type": "code",
   "execution_count": 31,
   "id": "14912ad2",
   "metadata": {},
   "outputs": [],
   "source": [
    "import json\n",
    "with open(\"data_uk_train.json\", \"r\") as f:\n",
    "    data_uk = json.load(f)\n",
    "with open(\"data_ru_train.json\", \"r\") as f:\n",
    "    data_ru = json.load(f)"
   ]
  },
  {
   "cell_type": "code",
   "execution_count": 32,
   "id": "a7f6309a",
   "metadata": {},
   "outputs": [],
   "source": [
    "import json\n",
    "with open(\"data_uk_test.json\", \"r\") as f:\n",
    "    data_uk_test = json.load(f)\n",
    "with open(\"data_ru_test.json\", \"r\") as f:\n",
    "    data_ru_test = json.load(f)"
   ]
  },
  {
   "cell_type": "code",
   "execution_count": 33,
   "id": "166d6971",
   "metadata": {},
   "outputs": [
    {
     "data": {
      "text/plain": [
       "[['O', '«', 'PUNCT'],\n",
       " ['O', 'Она', 'PRON'],\n",
       " ['O', 'всегда', 'ADV'],\n",
       " ['O', 'была', 'AUX'],\n",
       " ['O', 'уставшей', 'VERB'],\n",
       " ['O', ',', 'PUNCT'],\n",
       " ['O', 'периодически', 'ADV'],\n",
       " ['O', 'болела', 'VERB'],\n",
       " ['O', 'простудой', 'NOUN'],\n",
       " ['O', ',', 'PUNCT'],\n",
       " ['O', 'а', 'CCONJ'],\n",
       " ['O', 'на', 'ADP'],\n",
       " ['O', 'ее', 'DET'],\n",
       " ['O', 'ногах', 'NOUN'],\n",
       " ['O', 'вечно', 'ADV'],\n",
       " ['O', 'появлялись', 'VERB'],\n",
       " ['O', 'синяки', 'NOUN'],\n",
       " ['O', '.', 'PUNCT']]"
      ]
     },
     "execution_count": 33,
     "metadata": {},
     "output_type": "execute_result"
    }
   ],
   "source": [
    "data_ru[17]"
   ]
  },
  {
   "cell_type": "code",
   "execution_count": 34,
   "id": "a02da776",
   "metadata": {},
   "outputs": [
    {
     "data": {
      "text/plain": [
       "[['O', 'Луки', 'NOUN'],\n",
       " ['O', ',', 'PUNCT'],\n",
       " ['O', 'ідея', 'NOUN'],\n",
       " ['O', 'якого', 'DET'],\n",
       " ['O', 'належить', 'VERB'],\n",
       " ['O', 'Владиці', 'NOUN'],\n",
       " ['O', 'Володимиру', 'PROPN'],\n",
       " ['O', '(', 'PUNCT'],\n",
       " ['B', 'Війтишину', 'PROPN'],\n",
       " ['B', ')', 'PUNCT'],\n",
       " ['B', '.', 'PUNCT']]"
      ]
     },
     "execution_count": 34,
     "metadata": {},
     "output_type": "execute_result"
    }
   ],
   "source": [
    "data_uk[17]"
   ]
  },
  {
   "cell_type": "markdown",
   "id": "cd22ea04",
   "metadata": {},
   "source": [
    "## Extract Features\n",
    "use only word token from one model - ukrainian, pos tokens from correct model for training and from ru in testing"
   ]
  },
  {
   "cell_type": "code",
   "execution_count": 35,
   "id": "5504ea30",
   "metadata": {},
   "outputs": [],
   "source": [
    "def word2features(sent, i):\n",
    "    word = sent[i][1]\n",
    "    postag = sent[i][2]\n",
    "\n",
    "    features = {\n",
    "        'bias': 1.0,\n",
    "        'word_': word,\n",
    "        'word.lower()': word.lower(),\n",
    "        'word.istitle()': word.istitle(),\n",
    "        'postag': postag\n",
    "    }\n",
    "    if i > 0:\n",
    "        word1 = sent[i-1][1]\n",
    "        postag1 = sent[i-1][2]\n",
    "        features.update({\n",
    "            '-1word': word1,\n",
    "            '-1:word.lower()': word1.lower(),\n",
    "            '-1:word.istitle()': word1.istitle(),\n",
    "            '-1:postag': postag1\n",
    "        })\n",
    "    else:\n",
    "        features['BOS'] = True\n",
    "\n",
    "    if i < len(sent)-1:\n",
    "        word1 = sent[i-1][1]\n",
    "        postag1 = sent[i-1][2]\n",
    "        features.update({\n",
    "            '+1word': word1,\n",
    "            '+1:word.lower()': word1.lower(),\n",
    "            '+1:postag': postag1\n",
    "        })\n",
    "    else:\n",
    "        features['EOS'] = True\n",
    "    return features\n",
    "\n",
    "\n",
    "def sent2features(sent):\n",
    "    return [word2features(sent, i) for i in range(len(sent))]\n"
   ]
  },
  {
   "cell_type": "code",
   "execution_count": null,
   "id": "f47020f0",
   "metadata": {},
   "outputs": [],
   "source": []
  },
  {
   "cell_type": "code",
   "execution_count": 36,
   "id": "97a6015d",
   "metadata": {},
   "outputs": [],
   "source": [
    "X = [sent2features(s) for s in data_uk + data_ru]\n",
    "Y = [[l for l,text,pos in s] for s in data_uk + data_ru]"
   ]
  },
  {
   "cell_type": "code",
   "execution_count": 37,
   "id": "28def3ce",
   "metadata": {},
   "outputs": [],
   "source": [
    "crf = sklearn_crfsuite.CRF(\n",
    "    algorithm='lbfgs',\n",
    "    c1=0.5,\n",
    "    c2=0.5,\n",
    "    max_iterations=200,\n",
    "    all_possible_transitions=True\n",
    ")"
   ]
  },
  {
   "cell_type": "markdown",
   "id": "95bd0be0",
   "metadata": {},
   "source": [
    "## Train the CRF"
   ]
  },
  {
   "cell_type": "code",
   "execution_count": 38,
   "id": "e22f6dfe",
   "metadata": {},
   "outputs": [],
   "source": [
    "try:\n",
    "    crf.fit(X, Y)\n",
    "except AttributeError:\n",
    "    pass"
   ]
  },
  {
   "cell_type": "markdown",
   "id": "13ab2233",
   "metadata": {},
   "source": [
    "## Evaluate on test part"
   ]
  },
  {
   "cell_type": "code",
   "execution_count": 39,
   "id": "fb1e277b",
   "metadata": {},
   "outputs": [],
   "source": [
    "X_test = [sent2features(s) for s in data_uk_test + data_ru_test]\n",
    "Y_test = [[l for l,text,pos in s] for s in data_uk_test + data_ru_test]"
   ]
  },
  {
   "cell_type": "code",
   "execution_count": 40,
   "id": "eb55084d",
   "metadata": {},
   "outputs": [
    {
     "data": {
      "text/plain": [
       "{'O': {'O': 444520, 'B': 1692}, 'B': {'O': 11572, 'B': 6669}}"
      ]
     },
     "execution_count": 40,
     "metadata": {},
     "output_type": "execute_result"
    }
   ],
   "source": [
    "Y_pred = crf.predict(X_test)\n",
    "# confusion matrix\n",
    "evaluate(Y_pred,Y_test)"
   ]
  },
  {
   "cell_type": "code",
   "execution_count": 41,
   "id": "9cb686fe",
   "metadata": {},
   "outputs": [
    {
     "data": {
      "text/plain": [
       "0.5013908728667017"
      ]
     },
     "execution_count": 41,
     "metadata": {},
     "output_type": "execute_result"
    }
   ],
   "source": [
    "# f1 score\n",
    "metrics(evaluate(Y_pred,Y_test))"
   ]
  },
  {
   "cell_type": "markdown",
   "id": "dfc22bb5",
   "metadata": {},
   "source": [
    "## See relevant features"
   ]
  },
  {
   "cell_type": "code",
   "execution_count": 18,
   "id": "4231048a",
   "metadata": {},
   "outputs": [],
   "source": [
    "from collections import Counter"
   ]
  },
  {
   "cell_type": "code",
   "execution_count": 19,
   "id": "05bab65d",
   "metadata": {},
   "outputs": [
    {
     "name": "stdout",
     "output_type": "stream",
     "text": [
      "Top positive:\n",
      "8.327176 O        BOS\n",
      "1.863649 O        word_:британском\n",
      "1.863649 O        word.lower():британском\n",
      "1.669897 O        word_:Минобороны\n",
      "1.669897 O        word.lower():минобороны\n",
      "1.658079 B        -1word:СССР\n",
      "1.658079 B        -1:word.lower():ссср\n",
      "1.647327 B        word_:СССР\n",
      "1.647327 B        word.lower():ссср\n",
      "1.589936 O        word_:День\n",
      "\n",
      "Top negative:\n",
      "-1.099021 B        word.lower():м.\n",
      "-1.143653 B        word_:села\n",
      "-1.143653 B        word.lower():села\n",
      "-1.145578 O        -1word:м.\n",
      "-1.178023 B        word.lower():конституции\n",
      "-1.179705 B        word.lower():чемпіонаті\n",
      "-1.208804 B        word_:Конституции\n",
      "-1.295684 B        +1:postag:PROPN\n",
      "-1.427839 O        word_:РФ\n",
      "-1.427839 O        word.lower():рф\n"
     ]
    }
   ],
   "source": [
    "def print_state_features(state_features):\n",
    "    for (attr, label), weight in state_features:\n",
    "        print(\"%0.6f %-8s %s\" % (weight, label, attr))\n",
    "\n",
    "print(\"Top positive:\")\n",
    "print_state_features(Counter(crf.state_features_).most_common(10))\n",
    "\n",
    "print(\"\\nTop negative:\")\n",
    "print_state_features(Counter(crf.state_features_).most_common()[-10:])"
   ]
  },
  {
   "cell_type": "markdown",
   "id": "351c7f5a",
   "metadata": {},
   "source": [
    "## Use both ru and ua pos tags"
   ]
  },
  {
   "cell_type": "code",
   "execution_count": 20,
   "id": "3eb6e288",
   "metadata": {},
   "outputs": [],
   "source": [
    "import json\n",
    "with open(\"data_uk_train_multiple.json\", \"r\") as f:\n",
    "    data_uk = json.load(f)\n",
    "with open(\"data_ru_train_multiple.json\", \"r\") as f:\n",
    "    data_ru = json.load(f)"
   ]
  },
  {
   "cell_type": "code",
   "execution_count": 21,
   "id": "2930ec09",
   "metadata": {},
   "outputs": [],
   "source": [
    "import json\n",
    "with open(\"data_uk_test_multiple.json\", \"r\") as f:\n",
    "    data_uk_test = json.load(f)\n",
    "with open(\"data_ru_test_multiple.json\", \"r\") as f:\n",
    "    data_ru_test = json.load(f)"
   ]
  },
  {
   "cell_type": "code",
   "execution_count": null,
   "id": "b4718b5e",
   "metadata": {},
   "outputs": [],
   "source": []
  },
  {
   "cell_type": "code",
   "execution_count": 22,
   "id": "2d5c59ad",
   "metadata": {},
   "outputs": [],
   "source": [
    "def word2features(sent, i):\n",
    "    word = sent[i][1]\n",
    "    word_ru = sent[i][3]\n",
    "    postag_uk = sent[i][2]\n",
    "    postag_ru = sent[i][4]\n",
    "\n",
    "    features = {\n",
    "        'bias': 1.0,\n",
    "        'word_': word,\n",
    "        'word.lower()': word.lower(),\n",
    "        'word.istitle()': word.istitle(),\n",
    "        'postag_uk': postag_uk,\n",
    "        'postag_ru': postag_uk,\n",
    "    }\n",
    "    if i > 0:\n",
    "        word1 = sent[i-1][1]\n",
    "        postag1_uk = sent[i-1][2]\n",
    "        postag1_ru = sent[i-1][3]\n",
    "        features.update({\n",
    "            '-1word': word1,\n",
    "            '-1:word.lower()': word1.lower(),\n",
    "            '-1:word.istitle()': word1.istitle(),\n",
    "            '-1:postag_uk': postag1_uk,\n",
    "            '-1:postag_ru': postag1_ru\n",
    "        })\n",
    "    else:\n",
    "        features['BOS'] = True\n",
    "\n",
    "    if i < len(sent)-1:\n",
    "        word1 = sent[i-1][1]\n",
    "        postag1_uk = sent[i-1][2]\n",
    "        postag1_ru = sent[i-1][3]\n",
    "        features.update({\n",
    "            '+1word': word1,\n",
    "            '+1:word.lower()': word1.lower(),\n",
    "            '+1:postag_uk': postag1_uk,\n",
    "            '+1:postag_ru': postag1_ru\n",
    "        })\n",
    "    else:\n",
    "        features['EOS'] = True\n",
    "    return features\n",
    "\n",
    "\n",
    "def sent2features(sent):\n",
    "    return [word2features(sent, i) for i in range(len(sent))]\n"
   ]
  },
  {
   "cell_type": "code",
   "execution_count": 23,
   "id": "5bd9984b",
   "metadata": {},
   "outputs": [],
   "source": [
    "X = [sent2features(s) for s in data_uk+data_ru]\n",
    "Y = [[l for l,text_u,pos_u,text_r,pos_r in s] for s in data_uk+data_ru]"
   ]
  },
  {
   "cell_type": "code",
   "execution_count": null,
   "id": "e554ac16",
   "metadata": {},
   "outputs": [],
   "source": []
  },
  {
   "cell_type": "code",
   "execution_count": 24,
   "id": "4c9cc02e",
   "metadata": {},
   "outputs": [],
   "source": [
    "crf = sklearn_crfsuite.CRF(\n",
    "    algorithm='lbfgs',\n",
    "    c1=0.5,\n",
    "    c2=0.5,\n",
    "    max_iterations=200,\n",
    "    all_possible_transitions=True\n",
    ")"
   ]
  },
  {
   "cell_type": "markdown",
   "id": "f5d6e06b",
   "metadata": {},
   "source": [
    "## Train the CRF"
   ]
  },
  {
   "cell_type": "code",
   "execution_count": 25,
   "id": "d7460334",
   "metadata": {},
   "outputs": [],
   "source": [
    "try:\n",
    "    crf.fit(X, Y)\n",
    "except AttributeError:\n",
    "    pass"
   ]
  },
  {
   "cell_type": "markdown",
   "id": "c49f1b44",
   "metadata": {},
   "source": [
    "## Evaluate on test part"
   ]
  },
  {
   "cell_type": "code",
   "execution_count": 26,
   "id": "9c95f3ab",
   "metadata": {},
   "outputs": [],
   "source": [
    "X_test = [sent2features(s) for s in data_uk_test+data_ru_test]\n",
    "Y_test = [[l for l,text_u,pos_u,text_r,pos_r in s] for s in data_uk_test+data_ru_test]"
   ]
  },
  {
   "cell_type": "code",
   "execution_count": 27,
   "id": "1bc908e7",
   "metadata": {},
   "outputs": [
    {
     "data": {
      "text/plain": [
       "{'O': {'O': 575598, 'B': 10507}, 'B': {'O': 33465, 'B': 86188}}"
      ]
     },
     "execution_count": 27,
     "metadata": {},
     "output_type": "execute_result"
    }
   ],
   "source": [
    "Y_pred = crf.predict(X_test)\n",
    "# confusion matrix\n",
    "evaluate(Y_pred,Y_test)"
   ]
  },
  {
   "cell_type": "code",
   "execution_count": 30,
   "id": "dbd381aa",
   "metadata": {},
   "outputs": [
    {
     "data": {
      "text/plain": [
       "0.7967533788156119"
      ]
     },
     "execution_count": 30,
     "metadata": {},
     "output_type": "execute_result"
    }
   ],
   "source": [
    "# f score\n",
    "metrics(evaluate(Y_pred,Y_test))"
   ]
  },
  {
   "cell_type": "code",
   "execution_count": 28,
   "id": "d2c10456",
   "metadata": {},
   "outputs": [],
   "source": [
    "from collections import Counter"
   ]
  },
  {
   "cell_type": "code",
   "execution_count": 29,
   "id": "1612709b",
   "metadata": {},
   "outputs": [
    {
     "name": "stdout",
     "output_type": "stream",
     "text": [
      "Top positive:\n",
      "10.872601 O        BOS\n",
      "1.921468 B        -1word:Киев\n",
      "1.921468 B        -1:word.lower():киев\n",
      "1.921468 B        -1:postag_ru:Киев\n",
      "1.903493 B        +1word:Киев\n",
      "1.903493 B        +1:word.lower():киев\n",
      "1.903493 B        +1:postag_ru:Киев\n",
      "1.733833 O        word_:секторе\n",
      "1.733833 O        word.lower():секторе\n",
      "1.595281 B        word_:вул.\n",
      "\n",
      "Top negative:\n",
      "-1.232685 B        word_:сході\n",
      "-1.340709 O        word_:России\n",
      "-1.340709 O        word.lower():россии\n",
      "-1.360747 O        word_:Украины\n",
      "-1.360747 O        word.lower():украины\n",
      "-1.391849 B        +1:postag_ru:при\n",
      "-1.396699 O        -1:postag_ru:при\n",
      "-1.401627 O        -1word:при\n",
      "-1.415792 B        word_:заході\n",
      "-1.491825 B        +1:word.lower():при\n"
     ]
    }
   ],
   "source": [
    "def print_state_features(state_features):\n",
    "    for (attr, label), weight in state_features:\n",
    "        print(\"%0.6f %-8s %s\" % (weight, label, attr))\n",
    "\n",
    "print(\"Top positive:\")\n",
    "print_state_features(Counter(crf.state_features_).most_common(10))\n",
    "\n",
    "print(\"\\nTop negative:\")\n",
    "print_state_features(Counter(crf.state_features_).most_common()[-10:])"
   ]
  },
  {
   "cell_type": "code",
   "execution_count": null,
   "id": "20d98fd9",
   "metadata": {},
   "outputs": [],
   "source": []
  },
  {
   "cell_type": "code",
   "execution_count": null,
   "id": "185af27f",
   "metadata": {},
   "outputs": [],
   "source": []
  }
 ],
 "metadata": {
  "colab": {
   "provenance": []
  },
  "kernelspec": {
   "display_name": "Python 3 (ipykernel)",
   "language": "python",
   "name": "python3"
  },
  "language_info": {
   "codemirror_mode": {
    "name": "ipython",
    "version": 3
   },
   "file_extension": ".py",
   "mimetype": "text/x-python",
   "name": "python",
   "nbconvert_exporter": "python",
   "pygments_lexer": "ipython3",
   "version": "3.11.5"
  },
  "widgets": {
   "application/vnd.jupyter.widget-state+json": {
    "1260fd2006fe4541a4c6222182a1a35e": {
     "model_module": "@jupyter-widgets/controls",
     "model_module_version": "1.5.0",
     "model_name": "DescriptionStyleModel",
     "state": {
      "_model_module": "@jupyter-widgets/controls",
      "_model_module_version": "1.5.0",
      "_model_name": "DescriptionStyleModel",
      "_view_count": null,
      "_view_module": "@jupyter-widgets/base",
      "_view_module_version": "1.2.0",
      "_view_name": "StyleView",
      "description_width": ""
     }
    },
    "16947cd39dcd464f9a73f321e978fb5b": {
     "model_module": "@jupyter-widgets/controls",
     "model_module_version": "1.5.0",
     "model_name": "DescriptionStyleModel",
     "state": {
      "_model_module": "@jupyter-widgets/controls",
      "_model_module_version": "1.5.0",
      "_model_name": "DescriptionStyleModel",
      "_view_count": null,
      "_view_module": "@jupyter-widgets/base",
      "_view_module_version": "1.2.0",
      "_view_name": "StyleView",
      "description_width": ""
     }
    },
    "2f9ecc2bc9ba40f2b14e794238f7f610": {
     "model_module": "@jupyter-widgets/base",
     "model_module_version": "1.2.0",
     "model_name": "LayoutModel",
     "state": {
      "_model_module": "@jupyter-widgets/base",
      "_model_module_version": "1.2.0",
      "_model_name": "LayoutModel",
      "_view_count": null,
      "_view_module": "@jupyter-widgets/base",
      "_view_module_version": "1.2.0",
      "_view_name": "LayoutView",
      "align_content": null,
      "align_items": null,
      "align_self": null,
      "border": null,
      "bottom": null,
      "display": null,
      "flex": null,
      "flex_flow": null,
      "grid_area": null,
      "grid_auto_columns": null,
      "grid_auto_flow": null,
      "grid_auto_rows": null,
      "grid_column": null,
      "grid_gap": null,
      "grid_row": null,
      "grid_template_areas": null,
      "grid_template_columns": null,
      "grid_template_rows": null,
      "height": null,
      "justify_content": null,
      "justify_items": null,
      "left": null,
      "margin": null,
      "max_height": null,
      "max_width": null,
      "min_height": null,
      "min_width": null,
      "object_fit": null,
      "object_position": null,
      "order": null,
      "overflow": null,
      "overflow_x": null,
      "overflow_y": null,
      "padding": null,
      "right": null,
      "top": null,
      "visibility": null,
      "width": null
     }
    },
    "39a015863a054f64a70a2ac41bc0522f": {
     "model_module": "@jupyter-widgets/controls",
     "model_module_version": "1.5.0",
     "model_name": "HTMLModel",
     "state": {
      "_dom_classes": [],
      "_model_module": "@jupyter-widgets/controls",
      "_model_module_version": "1.5.0",
      "_model_name": "HTMLModel",
      "_view_count": null,
      "_view_module": "@jupyter-widgets/controls",
      "_view_module_version": "1.5.0",
      "_view_name": "HTMLView",
      "description": "",
      "description_tooltip": null,
      "layout": "IPY_MODEL_7926fdab314d4dda94c41f22fac1b22d",
      "placeholder": "​",
      "style": "IPY_MODEL_1260fd2006fe4541a4c6222182a1a35e",
      "value": " 60/60 [00:00&lt;00:00, 438.07 examples/s]"
     }
    },
    "3da38c46f318457696e615b848590e05": {
     "model_module": "@jupyter-widgets/controls",
     "model_module_version": "1.5.0",
     "model_name": "DescriptionStyleModel",
     "state": {
      "_model_module": "@jupyter-widgets/controls",
      "_model_module_version": "1.5.0",
      "_model_name": "DescriptionStyleModel",
      "_view_count": null,
      "_view_module": "@jupyter-widgets/base",
      "_view_module_version": "1.2.0",
      "_view_name": "StyleView",
      "description_width": ""
     }
    },
    "408691efde34435c9780afe45a5b7eb7": {
     "model_module": "@jupyter-widgets/base",
     "model_module_version": "1.2.0",
     "model_name": "LayoutModel",
     "state": {
      "_model_module": "@jupyter-widgets/base",
      "_model_module_version": "1.2.0",
      "_model_name": "LayoutModel",
      "_view_count": null,
      "_view_module": "@jupyter-widgets/base",
      "_view_module_version": "1.2.0",
      "_view_name": "LayoutView",
      "align_content": null,
      "align_items": null,
      "align_self": null,
      "border": null,
      "bottom": null,
      "display": null,
      "flex": null,
      "flex_flow": null,
      "grid_area": null,
      "grid_auto_columns": null,
      "grid_auto_flow": null,
      "grid_auto_rows": null,
      "grid_column": null,
      "grid_gap": null,
      "grid_row": null,
      "grid_template_areas": null,
      "grid_template_columns": null,
      "grid_template_rows": null,
      "height": null,
      "justify_content": null,
      "justify_items": null,
      "left": null,
      "margin": null,
      "max_height": null,
      "max_width": null,
      "min_height": null,
      "min_width": null,
      "object_fit": null,
      "object_position": null,
      "order": null,
      "overflow": null,
      "overflow_x": null,
      "overflow_y": null,
      "padding": null,
      "right": null,
      "top": null,
      "visibility": null,
      "width": null
     }
    },
    "4558a43ba1134a77b4807cb009f443e6": {
     "model_module": "@jupyter-widgets/base",
     "model_module_version": "1.2.0",
     "model_name": "LayoutModel",
     "state": {
      "_model_module": "@jupyter-widgets/base",
      "_model_module_version": "1.2.0",
      "_model_name": "LayoutModel",
      "_view_count": null,
      "_view_module": "@jupyter-widgets/base",
      "_view_module_version": "1.2.0",
      "_view_name": "LayoutView",
      "align_content": null,
      "align_items": null,
      "align_self": null,
      "border": null,
      "bottom": null,
      "display": null,
      "flex": null,
      "flex_flow": null,
      "grid_area": null,
      "grid_auto_columns": null,
      "grid_auto_flow": null,
      "grid_auto_rows": null,
      "grid_column": null,
      "grid_gap": null,
      "grid_row": null,
      "grid_template_areas": null,
      "grid_template_columns": null,
      "grid_template_rows": null,
      "height": null,
      "justify_content": null,
      "justify_items": null,
      "left": null,
      "margin": null,
      "max_height": null,
      "max_width": null,
      "min_height": null,
      "min_width": null,
      "object_fit": null,
      "object_position": null,
      "order": null,
      "overflow": null,
      "overflow_x": null,
      "overflow_y": null,
      "padding": null,
      "right": null,
      "top": null,
      "visibility": null,
      "width": null
     }
    },
    "507af27bd4384ea089219d118c80a473": {
     "model_module": "@jupyter-widgets/base",
     "model_module_version": "1.2.0",
     "model_name": "LayoutModel",
     "state": {
      "_model_module": "@jupyter-widgets/base",
      "_model_module_version": "1.2.0",
      "_model_name": "LayoutModel",
      "_view_count": null,
      "_view_module": "@jupyter-widgets/base",
      "_view_module_version": "1.2.0",
      "_view_name": "LayoutView",
      "align_content": null,
      "align_items": null,
      "align_self": null,
      "border": null,
      "bottom": null,
      "display": null,
      "flex": null,
      "flex_flow": null,
      "grid_area": null,
      "grid_auto_columns": null,
      "grid_auto_flow": null,
      "grid_auto_rows": null,
      "grid_column": null,
      "grid_gap": null,
      "grid_row": null,
      "grid_template_areas": null,
      "grid_template_columns": null,
      "grid_template_rows": null,
      "height": null,
      "justify_content": null,
      "justify_items": null,
      "left": null,
      "margin": null,
      "max_height": null,
      "max_width": null,
      "min_height": null,
      "min_width": null,
      "object_fit": null,
      "object_position": null,
      "order": null,
      "overflow": null,
      "overflow_x": null,
      "overflow_y": null,
      "padding": null,
      "right": null,
      "top": null,
      "visibility": null,
      "width": null
     }
    },
    "522aced62875400cb607bfbcb4cd6247": {
     "model_module": "@jupyter-widgets/controls",
     "model_module_version": "1.5.0",
     "model_name": "DescriptionStyleModel",
     "state": {
      "_model_module": "@jupyter-widgets/controls",
      "_model_module_version": "1.5.0",
      "_model_name": "DescriptionStyleModel",
      "_view_count": null,
      "_view_module": "@jupyter-widgets/base",
      "_view_module_version": "1.2.0",
      "_view_name": "StyleView",
      "description_width": ""
     }
    },
    "5f23e7c215664c4cb7af42e92a208a77": {
     "model_module": "@jupyter-widgets/base",
     "model_module_version": "1.2.0",
     "model_name": "LayoutModel",
     "state": {
      "_model_module": "@jupyter-widgets/base",
      "_model_module_version": "1.2.0",
      "_model_name": "LayoutModel",
      "_view_count": null,
      "_view_module": "@jupyter-widgets/base",
      "_view_module_version": "1.2.0",
      "_view_name": "LayoutView",
      "align_content": null,
      "align_items": null,
      "align_self": null,
      "border": null,
      "bottom": null,
      "display": null,
      "flex": null,
      "flex_flow": null,
      "grid_area": null,
      "grid_auto_columns": null,
      "grid_auto_flow": null,
      "grid_auto_rows": null,
      "grid_column": null,
      "grid_gap": null,
      "grid_row": null,
      "grid_template_areas": null,
      "grid_template_columns": null,
      "grid_template_rows": null,
      "height": null,
      "justify_content": null,
      "justify_items": null,
      "left": null,
      "margin": null,
      "max_height": null,
      "max_width": null,
      "min_height": null,
      "min_width": null,
      "object_fit": null,
      "object_position": null,
      "order": null,
      "overflow": null,
      "overflow_x": null,
      "overflow_y": null,
      "padding": null,
      "right": null,
      "top": null,
      "visibility": null,
      "width": null
     }
    },
    "6b80120f3784401e85cd456d3216f4d2": {
     "model_module": "@jupyter-widgets/controls",
     "model_module_version": "1.5.0",
     "model_name": "FloatProgressModel",
     "state": {
      "_dom_classes": [],
      "_model_module": "@jupyter-widgets/controls",
      "_model_module_version": "1.5.0",
      "_model_name": "FloatProgressModel",
      "_view_count": null,
      "_view_module": "@jupyter-widgets/controls",
      "_view_module_version": "1.5.0",
      "_view_name": "ProgressView",
      "bar_style": "success",
      "description": "",
      "description_tooltip": null,
      "layout": "IPY_MODEL_c96665c64f6a44839c546a2883c4e091",
      "max": 6338,
      "min": 0,
      "orientation": "horizontal",
      "style": "IPY_MODEL_ea31d4d557b940e0bc7facf7a197ba8e",
      "value": 6338
     }
    },
    "6df210934184486881fa9c7b4de01109": {
     "model_module": "@jupyter-widgets/controls",
     "model_module_version": "1.5.0",
     "model_name": "HBoxModel",
     "state": {
      "_dom_classes": [],
      "_model_module": "@jupyter-widgets/controls",
      "_model_module_version": "1.5.0",
      "_model_name": "HBoxModel",
      "_view_count": null,
      "_view_module": "@jupyter-widgets/controls",
      "_view_module_version": "1.5.0",
      "_view_name": "HBoxView",
      "box_style": "",
      "children": [
       "IPY_MODEL_9bfb44a621c24534bc73cddd771b840e",
       "IPY_MODEL_f68ec206509d459e9302c44a5ffeaa3f",
       "IPY_MODEL_cd8c01070bd9442f87a6a2863b8b79bb"
      ],
      "layout": "IPY_MODEL_4558a43ba1134a77b4807cb009f443e6"
     }
    },
    "709c7ef3673d4aa69c9e857a00bfb34b": {
     "model_module": "@jupyter-widgets/controls",
     "model_module_version": "1.5.0",
     "model_name": "ProgressStyleModel",
     "state": {
      "_model_module": "@jupyter-widgets/controls",
      "_model_module_version": "1.5.0",
      "_model_name": "ProgressStyleModel",
      "_view_count": null,
      "_view_module": "@jupyter-widgets/base",
      "_view_module_version": "1.2.0",
      "_view_name": "StyleView",
      "bar_color": null,
      "description_width": ""
     }
    },
    "7926fdab314d4dda94c41f22fac1b22d": {
     "model_module": "@jupyter-widgets/base",
     "model_module_version": "1.2.0",
     "model_name": "LayoutModel",
     "state": {
      "_model_module": "@jupyter-widgets/base",
      "_model_module_version": "1.2.0",
      "_model_name": "LayoutModel",
      "_view_count": null,
      "_view_module": "@jupyter-widgets/base",
      "_view_module_version": "1.2.0",
      "_view_name": "LayoutView",
      "align_content": null,
      "align_items": null,
      "align_self": null,
      "border": null,
      "bottom": null,
      "display": null,
      "flex": null,
      "flex_flow": null,
      "grid_area": null,
      "grid_auto_columns": null,
      "grid_auto_flow": null,
      "grid_auto_rows": null,
      "grid_column": null,
      "grid_gap": null,
      "grid_row": null,
      "grid_template_areas": null,
      "grid_template_columns": null,
      "grid_template_rows": null,
      "height": null,
      "justify_content": null,
      "justify_items": null,
      "left": null,
      "margin": null,
      "max_height": null,
      "max_width": null,
      "min_height": null,
      "min_width": null,
      "object_fit": null,
      "object_position": null,
      "order": null,
      "overflow": null,
      "overflow_x": null,
      "overflow_y": null,
      "padding": null,
      "right": null,
      "top": null,
      "visibility": null,
      "width": null
     }
    },
    "7ac3eda1941c4e628527daebce4e3dd7": {
     "model_module": "@jupyter-widgets/controls",
     "model_module_version": "1.5.0",
     "model_name": "HTMLModel",
     "state": {
      "_dom_classes": [],
      "_model_module": "@jupyter-widgets/controls",
      "_model_module_version": "1.5.0",
      "_model_name": "HTMLModel",
      "_view_count": null,
      "_view_module": "@jupyter-widgets/controls",
      "_view_module_version": "1.5.0",
      "_view_name": "HTMLView",
      "description": "",
      "description_tooltip": null,
      "layout": "IPY_MODEL_507af27bd4384ea089219d118c80a473",
      "placeholder": "​",
      "style": "IPY_MODEL_16947cd39dcd464f9a73f321e978fb5b",
      "value": "Map: 100%"
     }
    },
    "85ee6c908bed44969adf90689c7deaae": {
     "model_module": "@jupyter-widgets/controls",
     "model_module_version": "1.5.0",
     "model_name": "DescriptionStyleModel",
     "state": {
      "_model_module": "@jupyter-widgets/controls",
      "_model_module_version": "1.5.0",
      "_model_name": "DescriptionStyleModel",
      "_view_count": null,
      "_view_module": "@jupyter-widgets/base",
      "_view_module_version": "1.2.0",
      "_view_name": "StyleView",
      "description_width": ""
     }
    },
    "9bfb44a621c24534bc73cddd771b840e": {
     "model_module": "@jupyter-widgets/controls",
     "model_module_version": "1.5.0",
     "model_name": "HTMLModel",
     "state": {
      "_dom_classes": [],
      "_model_module": "@jupyter-widgets/controls",
      "_model_module_version": "1.5.0",
      "_model_name": "HTMLModel",
      "_view_count": null,
      "_view_module": "@jupyter-widgets/controls",
      "_view_module_version": "1.5.0",
      "_view_name": "HTMLView",
      "description": "",
      "description_tooltip": null,
      "layout": "IPY_MODEL_d83a9bb7289f4b9d97cf11e7078df0b4",
      "placeholder": "​",
      "style": "IPY_MODEL_85ee6c908bed44969adf90689c7deaae",
      "value": "Map: 100%"
     }
    },
    "ae9b507949584d4bb489fead96e4fb57": {
     "model_module": "@jupyter-widgets/base",
     "model_module_version": "1.2.0",
     "model_name": "LayoutModel",
     "state": {
      "_model_module": "@jupyter-widgets/base",
      "_model_module_version": "1.2.0",
      "_model_name": "LayoutModel",
      "_view_count": null,
      "_view_module": "@jupyter-widgets/base",
      "_view_module_version": "1.2.0",
      "_view_name": "LayoutView",
      "align_content": null,
      "align_items": null,
      "align_self": null,
      "border": null,
      "bottom": null,
      "display": null,
      "flex": null,
      "flex_flow": null,
      "grid_area": null,
      "grid_auto_columns": null,
      "grid_auto_flow": null,
      "grid_auto_rows": null,
      "grid_column": null,
      "grid_gap": null,
      "grid_row": null,
      "grid_template_areas": null,
      "grid_template_columns": null,
      "grid_template_rows": null,
      "height": null,
      "justify_content": null,
      "justify_items": null,
      "left": null,
      "margin": null,
      "max_height": null,
      "max_width": null,
      "min_height": null,
      "min_width": null,
      "object_fit": null,
      "object_position": null,
      "order": null,
      "overflow": null,
      "overflow_x": null,
      "overflow_y": null,
      "padding": null,
      "right": null,
      "top": null,
      "visibility": null,
      "width": null
     }
    },
    "b374258c84f34396afa75fd16a544fcf": {
     "model_module": "@jupyter-widgets/base",
     "model_module_version": "1.2.0",
     "model_name": "LayoutModel",
     "state": {
      "_model_module": "@jupyter-widgets/base",
      "_model_module_version": "1.2.0",
      "_model_name": "LayoutModel",
      "_view_count": null,
      "_view_module": "@jupyter-widgets/base",
      "_view_module_version": "1.2.0",
      "_view_name": "LayoutView",
      "align_content": null,
      "align_items": null,
      "align_self": null,
      "border": null,
      "bottom": null,
      "display": null,
      "flex": null,
      "flex_flow": null,
      "grid_area": null,
      "grid_auto_columns": null,
      "grid_auto_flow": null,
      "grid_auto_rows": null,
      "grid_column": null,
      "grid_gap": null,
      "grid_row": null,
      "grid_template_areas": null,
      "grid_template_columns": null,
      "grid_template_rows": null,
      "height": null,
      "justify_content": null,
      "justify_items": null,
      "left": null,
      "margin": null,
      "max_height": null,
      "max_width": null,
      "min_height": null,
      "min_width": null,
      "object_fit": null,
      "object_position": null,
      "order": null,
      "overflow": null,
      "overflow_x": null,
      "overflow_y": null,
      "padding": null,
      "right": null,
      "top": null,
      "visibility": null,
      "width": null
     }
    },
    "bf11ec50612749438ff710bdcfdb2ed0": {
     "model_module": "@jupyter-widgets/controls",
     "model_module_version": "1.5.0",
     "model_name": "HBoxModel",
     "state": {
      "_dom_classes": [],
      "_model_module": "@jupyter-widgets/controls",
      "_model_module_version": "1.5.0",
      "_model_name": "HBoxModel",
      "_view_count": null,
      "_view_module": "@jupyter-widgets/controls",
      "_view_module_version": "1.5.0",
      "_view_name": "HBoxView",
      "box_style": "",
      "children": [
       "IPY_MODEL_7ac3eda1941c4e628527daebce4e3dd7",
       "IPY_MODEL_f27588e630094d8eb2358e913dbf4295",
       "IPY_MODEL_39a015863a054f64a70a2ac41bc0522f"
      ],
      "layout": "IPY_MODEL_2f9ecc2bc9ba40f2b14e794238f7f610"
     }
    },
    "c4bf694203464ca08c036b31c7c98fde": {
     "model_module": "@jupyter-widgets/controls",
     "model_module_version": "1.5.0",
     "model_name": "ProgressStyleModel",
     "state": {
      "_model_module": "@jupyter-widgets/controls",
      "_model_module_version": "1.5.0",
      "_model_name": "ProgressStyleModel",
      "_view_count": null,
      "_view_module": "@jupyter-widgets/base",
      "_view_module_version": "1.2.0",
      "_view_name": "StyleView",
      "bar_color": null,
      "description_width": ""
     }
    },
    "c96665c64f6a44839c546a2883c4e091": {
     "model_module": "@jupyter-widgets/base",
     "model_module_version": "1.2.0",
     "model_name": "LayoutModel",
     "state": {
      "_model_module": "@jupyter-widgets/base",
      "_model_module_version": "1.2.0",
      "_model_name": "LayoutModel",
      "_view_count": null,
      "_view_module": "@jupyter-widgets/base",
      "_view_module_version": "1.2.0",
      "_view_name": "LayoutView",
      "align_content": null,
      "align_items": null,
      "align_self": null,
      "border": null,
      "bottom": null,
      "display": null,
      "flex": null,
      "flex_flow": null,
      "grid_area": null,
      "grid_auto_columns": null,
      "grid_auto_flow": null,
      "grid_auto_rows": null,
      "grid_column": null,
      "grid_gap": null,
      "grid_row": null,
      "grid_template_areas": null,
      "grid_template_columns": null,
      "grid_template_rows": null,
      "height": null,
      "justify_content": null,
      "justify_items": null,
      "left": null,
      "margin": null,
      "max_height": null,
      "max_width": null,
      "min_height": null,
      "min_width": null,
      "object_fit": null,
      "object_position": null,
      "order": null,
      "overflow": null,
      "overflow_x": null,
      "overflow_y": null,
      "padding": null,
      "right": null,
      "top": null,
      "visibility": null,
      "width": null
     }
    },
    "cd601eeaf419488abcd436df1ccb401b": {
     "model_module": "@jupyter-widgets/controls",
     "model_module_version": "1.5.0",
     "model_name": "DescriptionStyleModel",
     "state": {
      "_model_module": "@jupyter-widgets/controls",
      "_model_module_version": "1.5.0",
      "_model_name": "DescriptionStyleModel",
      "_view_count": null,
      "_view_module": "@jupyter-widgets/base",
      "_view_module_version": "1.2.0",
      "_view_name": "StyleView",
      "description_width": ""
     }
    },
    "cd8c01070bd9442f87a6a2863b8b79bb": {
     "model_module": "@jupyter-widgets/controls",
     "model_module_version": "1.5.0",
     "model_name": "HTMLModel",
     "state": {
      "_dom_classes": [],
      "_model_module": "@jupyter-widgets/controls",
      "_model_module_version": "1.5.0",
      "_model_name": "HTMLModel",
      "_view_count": null,
      "_view_module": "@jupyter-widgets/controls",
      "_view_module_version": "1.5.0",
      "_view_name": "HTMLView",
      "description": "",
      "description_tooltip": null,
      "layout": "IPY_MODEL_b374258c84f34396afa75fd16a544fcf",
      "placeholder": "​",
      "style": "IPY_MODEL_cd601eeaf419488abcd436df1ccb401b",
      "value": " 140/140 [00:00&lt;00:00, 894.24 examples/s]"
     }
    },
    "d83a9bb7289f4b9d97cf11e7078df0b4": {
     "model_module": "@jupyter-widgets/base",
     "model_module_version": "1.2.0",
     "model_name": "LayoutModel",
     "state": {
      "_model_module": "@jupyter-widgets/base",
      "_model_module_version": "1.2.0",
      "_model_name": "LayoutModel",
      "_view_count": null,
      "_view_module": "@jupyter-widgets/base",
      "_view_module_version": "1.2.0",
      "_view_name": "LayoutView",
      "align_content": null,
      "align_items": null,
      "align_self": null,
      "border": null,
      "bottom": null,
      "display": null,
      "flex": null,
      "flex_flow": null,
      "grid_area": null,
      "grid_auto_columns": null,
      "grid_auto_flow": null,
      "grid_auto_rows": null,
      "grid_column": null,
      "grid_gap": null,
      "grid_row": null,
      "grid_template_areas": null,
      "grid_template_columns": null,
      "grid_template_rows": null,
      "height": null,
      "justify_content": null,
      "justify_items": null,
      "left": null,
      "margin": null,
      "max_height": null,
      "max_width": null,
      "min_height": null,
      "min_width": null,
      "object_fit": null,
      "object_position": null,
      "order": null,
      "overflow": null,
      "overflow_x": null,
      "overflow_y": null,
      "padding": null,
      "right": null,
      "top": null,
      "visibility": null,
      "width": null
     }
    },
    "dadb22b06174409a80a82949420f6b06": {
     "model_module": "@jupyter-widgets/controls",
     "model_module_version": "1.5.0",
     "model_name": "HTMLModel",
     "state": {
      "_dom_classes": [],
      "_model_module": "@jupyter-widgets/controls",
      "_model_module_version": "1.5.0",
      "_model_name": "HTMLModel",
      "_view_count": null,
      "_view_module": "@jupyter-widgets/controls",
      "_view_module_version": "1.5.0",
      "_view_name": "HTMLView",
      "description": "",
      "description_tooltip": null,
      "layout": "IPY_MODEL_5f23e7c215664c4cb7af42e92a208a77",
      "placeholder": "​",
      "style": "IPY_MODEL_522aced62875400cb607bfbcb4cd6247",
      "value": "Downloading builder script: 100%"
     }
    },
    "e03238730c7e4dfba613229e222b4b36": {
     "model_module": "@jupyter-widgets/controls",
     "model_module_version": "1.5.0",
     "model_name": "HBoxModel",
     "state": {
      "_dom_classes": [],
      "_model_module": "@jupyter-widgets/controls",
      "_model_module_version": "1.5.0",
      "_model_name": "HBoxModel",
      "_view_count": null,
      "_view_module": "@jupyter-widgets/controls",
      "_view_module_version": "1.5.0",
      "_view_name": "HBoxView",
      "box_style": "",
      "children": [
       "IPY_MODEL_dadb22b06174409a80a82949420f6b06",
       "IPY_MODEL_6b80120f3784401e85cd456d3216f4d2",
       "IPY_MODEL_e64f47a0baf247aca934f7c634080edb"
      ],
      "layout": "IPY_MODEL_fdb340caf54843a6be6d7639ce9044ee"
     }
    },
    "e64f47a0baf247aca934f7c634080edb": {
     "model_module": "@jupyter-widgets/controls",
     "model_module_version": "1.5.0",
     "model_name": "HTMLModel",
     "state": {
      "_dom_classes": [],
      "_model_module": "@jupyter-widgets/controls",
      "_model_module_version": "1.5.0",
      "_model_name": "HTMLModel",
      "_view_count": null,
      "_view_module": "@jupyter-widgets/controls",
      "_view_module_version": "1.5.0",
      "_view_name": "HTMLView",
      "description": "",
      "description_tooltip": null,
      "layout": "IPY_MODEL_ff719b4868e44e31adbb8ca8422df403",
      "placeholder": "​",
      "style": "IPY_MODEL_3da38c46f318457696e615b848590e05",
      "value": " 6.34k/6.34k [00:00&lt;00:00, 104kB/s]"
     }
    },
    "ea31d4d557b940e0bc7facf7a197ba8e": {
     "model_module": "@jupyter-widgets/controls",
     "model_module_version": "1.5.0",
     "model_name": "ProgressStyleModel",
     "state": {
      "_model_module": "@jupyter-widgets/controls",
      "_model_module_version": "1.5.0",
      "_model_name": "ProgressStyleModel",
      "_view_count": null,
      "_view_module": "@jupyter-widgets/base",
      "_view_module_version": "1.2.0",
      "_view_name": "StyleView",
      "bar_color": null,
      "description_width": ""
     }
    },
    "f27588e630094d8eb2358e913dbf4295": {
     "model_module": "@jupyter-widgets/controls",
     "model_module_version": "1.5.0",
     "model_name": "FloatProgressModel",
     "state": {
      "_dom_classes": [],
      "_model_module": "@jupyter-widgets/controls",
      "_model_module_version": "1.5.0",
      "_model_name": "FloatProgressModel",
      "_view_count": null,
      "_view_module": "@jupyter-widgets/controls",
      "_view_module_version": "1.5.0",
      "_view_name": "ProgressView",
      "bar_style": "success",
      "description": "",
      "description_tooltip": null,
      "layout": "IPY_MODEL_408691efde34435c9780afe45a5b7eb7",
      "max": 60,
      "min": 0,
      "orientation": "horizontal",
      "style": "IPY_MODEL_709c7ef3673d4aa69c9e857a00bfb34b",
      "value": 60
     }
    },
    "f68ec206509d459e9302c44a5ffeaa3f": {
     "model_module": "@jupyter-widgets/controls",
     "model_module_version": "1.5.0",
     "model_name": "FloatProgressModel",
     "state": {
      "_dom_classes": [],
      "_model_module": "@jupyter-widgets/controls",
      "_model_module_version": "1.5.0",
      "_model_name": "FloatProgressModel",
      "_view_count": null,
      "_view_module": "@jupyter-widgets/controls",
      "_view_module_version": "1.5.0",
      "_view_name": "ProgressView",
      "bar_style": "success",
      "description": "",
      "description_tooltip": null,
      "layout": "IPY_MODEL_ae9b507949584d4bb489fead96e4fb57",
      "max": 140,
      "min": 0,
      "orientation": "horizontal",
      "style": "IPY_MODEL_c4bf694203464ca08c036b31c7c98fde",
      "value": 140
     }
    },
    "fdb340caf54843a6be6d7639ce9044ee": {
     "model_module": "@jupyter-widgets/base",
     "model_module_version": "1.2.0",
     "model_name": "LayoutModel",
     "state": {
      "_model_module": "@jupyter-widgets/base",
      "_model_module_version": "1.2.0",
      "_model_name": "LayoutModel",
      "_view_count": null,
      "_view_module": "@jupyter-widgets/base",
      "_view_module_version": "1.2.0",
      "_view_name": "LayoutView",
      "align_content": null,
      "align_items": null,
      "align_self": null,
      "border": null,
      "bottom": null,
      "display": null,
      "flex": null,
      "flex_flow": null,
      "grid_area": null,
      "grid_auto_columns": null,
      "grid_auto_flow": null,
      "grid_auto_rows": null,
      "grid_column": null,
      "grid_gap": null,
      "grid_row": null,
      "grid_template_areas": null,
      "grid_template_columns": null,
      "grid_template_rows": null,
      "height": null,
      "justify_content": null,
      "justify_items": null,
      "left": null,
      "margin": null,
      "max_height": null,
      "max_width": null,
      "min_height": null,
      "min_width": null,
      "object_fit": null,
      "object_position": null,
      "order": null,
      "overflow": null,
      "overflow_x": null,
      "overflow_y": null,
      "padding": null,
      "right": null,
      "top": null,
      "visibility": null,
      "width": null
     }
    },
    "ff719b4868e44e31adbb8ca8422df403": {
     "model_module": "@jupyter-widgets/base",
     "model_module_version": "1.2.0",
     "model_name": "LayoutModel",
     "state": {
      "_model_module": "@jupyter-widgets/base",
      "_model_module_version": "1.2.0",
      "_model_name": "LayoutModel",
      "_view_count": null,
      "_view_module": "@jupyter-widgets/base",
      "_view_module_version": "1.2.0",
      "_view_name": "LayoutView",
      "align_content": null,
      "align_items": null,
      "align_self": null,
      "border": null,
      "bottom": null,
      "display": null,
      "flex": null,
      "flex_flow": null,
      "grid_area": null,
      "grid_auto_columns": null,
      "grid_auto_flow": null,
      "grid_auto_rows": null,
      "grid_column": null,
      "grid_gap": null,
      "grid_row": null,
      "grid_template_areas": null,
      "grid_template_columns": null,
      "grid_template_rows": null,
      "height": null,
      "justify_content": null,
      "justify_items": null,
      "left": null,
      "margin": null,
      "max_height": null,
      "max_width": null,
      "min_height": null,
      "min_width": null,
      "object_fit": null,
      "object_position": null,
      "order": null,
      "overflow": null,
      "overflow_x": null,
      "overflow_y": null,
      "padding": null,
      "right": null,
      "top": null,
      "visibility": null,
      "width": null
     }
    }
   }
  }
 },
 "nbformat": 4,
 "nbformat_minor": 5
}
